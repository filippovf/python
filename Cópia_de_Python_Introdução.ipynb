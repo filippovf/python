{
  "nbformat": 4,
  "nbformat_minor": 0,
  "metadata": {
    "colab": {
      "name": "Cópia de Python:Introdução.ipynb",
      "provenance": [],
      "collapsed_sections": [
        "p-q9cZL2tPvE",
        "SyJDtR9DAI8V",
        "TF1tX30Pj6dT",
        "gTtyE3plpq4x",
        "VDMbefBAS-KF",
        "ijwzL2WXdZ-J",
        "-ANKx0APoL9w",
        "QtEpVxxnbeHc"
      ],
      "toc_visible": true,
      "include_colab_link": true
    },
    "kernelspec": {
      "name": "python3",
      "display_name": "Python 3"
    },
    "language_info": {
      "name": "python"
    }
  },
  "cells": [
    {
      "cell_type": "markdown",
      "metadata": {
        "id": "view-in-github",
        "colab_type": "text"
      },
      "source": [
        "<a href=\"https://colab.research.google.com/github/filippovf/python/blob/main/C%C3%B3pia_de_Python_Introdu%C3%A7%C3%A3o.ipynb\" target=\"_parent\"><img src=\"https://colab.research.google.com/assets/colab-badge.svg\" alt=\"Open In Colab\"/></a>"
      ]
    },
    {
      "cell_type": "markdown",
      "metadata": {
        "id": "p-q9cZL2tPvE"
      },
      "source": [
        "# Introdução"
      ]
    },
    {
      "cell_type": "markdown",
      "metadata": {
        "id": "9UIONcdt4XkZ"
      },
      "source": [
        "Um pouco sobre a história da computação.\n",
        "\n",
        "O que é programação?\n",
        "\n",
        "O que é um programa de computador?\n",
        "\n",
        "O que é um algoritmo?"
      ]
    },
    {
      "cell_type": "markdown",
      "metadata": {
        "id": "SyJDtR9DAI8V"
      },
      "source": [
        "# Python\n",
        "\n",
        "\n",
        "\n"
      ]
    },
    {
      "cell_type": "markdown",
      "metadata": {
        "id": "4Uk86fj44bvP"
      },
      "source": [
        "Aplicações python\n",
        "\n",
        "Ambientes de programação python\n",
        "* Colab\n",
        "* repl.it\n",
        "* site do Python\n",
        "* Terminal"
      ]
    },
    {
      "cell_type": "markdown",
      "metadata": {
        "id": "TF1tX30Pj6dT"
      },
      "source": [
        "# A linguagem Python"
      ]
    },
    {
      "cell_type": "code",
      "metadata": {
        "colab": {
          "base_uri": "https://localhost:8080/"
        },
        "id": "z9DaUt8NkEMb",
        "outputId": "5f42e7de-7cde-4e93-a932-379bb274b27f"
      },
      "source": [
        "print(\"Hello World\") #  Este é um comentário"
      ],
      "execution_count": null,
      "outputs": [
        {
          "output_type": "stream",
          "text": [
            "Hello World\n"
          ],
          "name": "stdout"
        }
      ]
    },
    {
      "cell_type": "markdown",
      "metadata": {
        "id": "gTtyE3plpq4x"
      },
      "source": [
        "# Tipos de dados em python"
      ]
    },
    {
      "cell_type": "code",
      "metadata": {
        "colab": {
          "base_uri": "https://localhost:8080/"
        },
        "id": "SsGvi_VXpxNc",
        "outputId": "ebbd80e3-9818-4433-be4c-aadcadf6d70e"
      },
      "source": [
        "print(\"Tipos de Dados em Pyhton:\\n\")\n",
        "print('27 =', type(27)) # O tipo de dados do número 27 é int(numero inteiro)\n",
        "print('2.7 =', type(2.7)) # O tipo de dados do número 2.7 é int(numero float)\n",
        "print('\"27\" =', type('27')) # O tipo de dados docom aspas é string\n",
        "print('2.7 + 2j =', type(2.7 + 2j)) # O tipo de dados complexo usa o j\n",
        "print('True or False =', type(True)) # O tipo de dados True or False é booleano\n",
        "print(type(27)) # O tipo de dados do número 27 é int(numero inteiro)\n",
        "print(type(2.7)) # O tipo de dados do número 2.7 é int(numero float)\n",
        "print(type('27')) # O tipo de dados docom aspas é string\n",
        "print(type(2.7 + 2j)) # O tipo de dados complexo usa o j\n",
        "print(type(True)) # O tipo de dados True or False é booleano\n",
        "print(\"\\nHello \\nWorld!\") # O \\n pula linha como no bash\n",
        "print('Pode usar \"aspas\" duplas mantendo a string inteira em aspas simples e usar \\\\n para pular linha')\n",
        "# uma \\ adicional mata a \\ tratando-a como caractere comum"
      ],
      "execution_count": 98,
      "outputs": [
        {
          "output_type": "stream",
          "text": [
            "Tipos de Dados em Pyhton:\n",
            "\n",
            "27 = <class 'int'>\n",
            "2.7 = <class 'float'>\n",
            "\"27\" = <class 'str'>\n",
            "2.7 + 2j = <class 'complex'>\n",
            "True or False = <class 'bool'>\n",
            "<class 'int'>\n",
            "<class 'float'>\n",
            "<class 'str'>\n",
            "<class 'complex'>\n",
            "<class 'bool'>\n",
            "\n",
            "Hello \n",
            "World!\n",
            "Pode usar \"aspas\" duplas mantendo a string inteira em aspas simples e usar \\n para pular linha\n"
          ],
          "name": "stdout"
        }
      ]
    },
    {
      "cell_type": "markdown",
      "metadata": {
        "id": "YX1NbqMIBIek"
      },
      "source": [
        "# Declarando e usando variáveis"
      ]
    },
    {
      "cell_type": "code",
      "metadata": {
        "id": "SWSdRFbAvPGL",
        "colab": {
          "base_uri": "https://localhost:8080/"
        },
        "outputId": "fd1e8af4-e311-4542-c3be-c7e65c85984b"
      },
      "source": [
        "print('Declarando e usando variáveis:\\n')\n",
        "aluno = \"Filippo\"\n",
        "pi = 3.1415926536\n",
        "status = True\n",
        "print(aluno)\n",
        "print(pi)\n",
        "print('circunferência de raio 1 =', pi * 2 * 1)\n",
        "print(2 * pi)\n",
        "print(status)\n",
        "print(aluno, pi, status)"
      ],
      "execution_count": 1,
      "outputs": [
        {
          "output_type": "stream",
          "text": [
            "Declarando e usando variáveis:\n",
            "\n",
            "Filippo\n",
            "3.1415926536\n",
            "circunferência de raio 1 = 6.2831853072\n",
            "6.2831853072\n",
            "True\n",
            "Filippo 3.1415926536 True\n"
          ],
          "name": "stdout"
        }
      ]
    },
    {
      "cell_type": "markdown",
      "metadata": {
        "id": "VDMbefBAS-KF"
      },
      "source": [
        "## Concatenando variáveis e alterando os tipos"
      ]
    },
    {
      "cell_type": "code",
      "metadata": {
        "colab": {
          "base_uri": "https://localhost:8080/"
        },
        "id": "42YwYK27TI7n",
        "outputId": "2825c58a-51f7-4bf7-b0d4-09bfcdbe4d14"
      },
      "source": [
        "nome  = \"Filippo\"\n",
        "sobrenome = \"Valiante\"\n",
        "idade = 41\n",
        "print(nome, sobrenome)\n",
        "print(nome + sobrenome)\n",
        "print(nome + \" \" + sobrenome)\n",
        "print(nome + \" \" + sobrenome, idade)\n",
        "print(nome + \" \" + sobrenome + \",\", idade)\n",
        "print(\"Olá, meu nome é \" + nome + \" \" + sobrenome + \" e minha idade é\", idade) \n",
        "print(\"Olá, meu nome é\", nome, sobrenome, \"e minha idade é\", idade) \n",
        "# Não dá pra concatenar a idade com o + porque ela é int.\n",
        "# Pra usar + idade  no print precisaria declará-lo como string \"41\")\n",
        "# Mas dá pra usar a função str() para converter para string\n",
        "print(\"Olá, meu nome é \" + nome + \" \" + sobrenome + \" e minha idade é \" + str(idade)) \n",
        "print(\"Ano que vem terei\", idade + 1, \"anos.\")\n",
        "print(type(idade))        # resulta INT\n",
        "print(type(str(idade)))   # resulta STR"
      ],
      "execution_count": 7,
      "outputs": [
        {
          "output_type": "stream",
          "text": [
            "Filippo Valiante\n",
            "FilippoValiante\n",
            "Filippo Valiante\n",
            "Filippo Valiante 41\n",
            "Filippo Valiante, 41\n",
            "Olá, meu nome é Filippo Valiante e minha idade é 41\n",
            "Olá, meu nome é Filippo Valiante e minha idade é 41\n",
            "Olá, meu nome é Filippo Valiante e minha idade é 41\n",
            "Ano que vem terei 42 anos.\n",
            "<class 'int'>\n",
            "<class 'str'>\n"
          ],
          "name": "stdout"
        }
      ]
    },
    {
      "cell_type": "code",
      "metadata": {
        "colab": {
          "base_uri": "https://localhost:8080/"
        },
        "id": "M1sF_mNQY7iW",
        "outputId": "895a2b53-ff4b-4f13-f0ad-a47c3ab7335b"
      },
      "source": [
        "numero_inteiro = 100\n",
        "numero = float(numero_inteiro)\n",
        "print(numero, numero_inteiro)\n",
        "print(type(numero_inteiro))\n",
        "print(type(numero))\n",
        "numero_complexo_string = \"1+2j\"\n",
        "numero_complexo = complex(numero_complexo_string)\n",
        "print(numero_complexo,numero_complexo_string)\n",
        "print(type(numero_complexo_string))\n",
        "print(type(numero_complexo))\n",
        "# Funções str(), float(), int(), complex(), boolean()\n"
      ],
      "execution_count": 12,
      "outputs": [
        {
          "output_type": "stream",
          "text": [
            "100.0 100\n",
            "<class 'int'>\n",
            "<class 'float'>\n",
            "(1+2j) 1+2j\n",
            "<class 'str'>\n",
            "<class 'complex'>\n"
          ],
          "name": "stdout"
        }
      ]
    },
    {
      "cell_type": "markdown",
      "metadata": {
        "id": "ijwzL2WXdZ-J"
      },
      "source": [
        "## Entrada de Dados"
      ]
    },
    {
      "cell_type": "code",
      "metadata": {
        "colab": {
          "base_uri": "https://localhost:8080/"
        },
        "id": "93Kit7KZdeTA",
        "outputId": "9e5f68cd-ea76-4a91-c7dc-30db891f2c33"
      },
      "source": [
        "nome = input(\"Digite o seu nome:\")\n",
        "print(\"\\nOlá\", nome + \".\\n\")\n",
        "valor = float(input(\"Qual foi o valor da conta no restaurante? \"))\n",
        "gorjeta = valor * 0.1\n",
        "print(\"\\nA gorjeta é de R$\", gorjeta)\n",
        "print(\"\\nA gorjeta é de R$\", round(gorjeta, 2))     #Arredonda para \"n\" casas\n",
        "print(\"\\nA gorjeta é de R$ {:.2f}\".format(gorjeta)) #Formata com 2 casas decimais\n",
        "print(\"\\nA gorjeta é de R$ {:.3f}\".format(gorjeta)) #Formata com 3 casas decimais\n",
        "print(\"\\nA gorjeta é de R$ {:.3f}\".format(gorjeta)) #Formata com 3 casas decimais\n",
        "print(f'A gorjeta é de R$ {gorjeta:.2f}')            #Formata com 2 casas decimais\n",
        "\n",
        "teste = 10/6\n",
        "print(\"\\n\")\n",
        "print(teste)\n",
        "print(round(teste, 2))     #Arredonda para \"n casas\n",
        "print(\"{:.2f}\".format(teste)) #Formata com 2 casas decimais\n",
        "print(\"{:.3f}\".format(teste)) #Formata com 3 casas decimais"
      ],
      "execution_count": 60,
      "outputs": [
        {
          "output_type": "stream",
          "text": [
            "Digite o seu nome:ljdlffs\n",
            "\n",
            "Olá ljdlffs.\n",
            "\n",
            "Qual foi o valor da conta no restaurante? 35646\n",
            "\n",
            "A gorjeta é de R$ 3564.6000000000004\n",
            "\n",
            "A gorjeta é de R$ 3564.6\n",
            "\n",
            "A gorjeta é de R$ 3564.60\n",
            "\n",
            "A gorjeta é de R$ 3564.600\n",
            "\n",
            "A gorjeta é de R$ 3564.600\n",
            "A gorjeta é de R$ 3564.60\n",
            "\n",
            "\n",
            "1.6666666666666667\n",
            "1.67\n",
            "1.67\n",
            "1.667\n"
          ],
          "name": "stdout"
        }
      ]
    },
    {
      "cell_type": "markdown",
      "metadata": {
        "id": "-ANKx0APoL9w"
      },
      "source": [
        "## Manipulação de strings"
      ]
    },
    {
      "cell_type": "code",
      "metadata": {
        "colab": {
          "base_uri": "https://localhost:8080/"
        },
        "id": "_H4MsCROoSE5",
        "outputId": "55d3348a-a293-42dd-9ece-bfd71ffe9042"
      },
      "source": [
        "teste = \"Primeiro Teste\"\n",
        "segundo_teste = \"Mais outro teste\"\n",
        "print(teste)\n",
        "print(segundo_teste)\n",
        "print(len(teste))           # len() mostra o tamanho da variável\n",
        "print(len(segundo_teste))   # len() mostra o tamanho da variável\n",
        "print(teste + \" \" + segundo_teste)    # concatenação\n",
        "subst1 = teste.replace(\"Teste\", \"Segundo\") # substitui a palavra teste por segundo\n",
        "subst2 = teste.replace(\"Primeiro Teste\", \"Terceiro\") # substitui toda a expressão por segundo\n",
        "subst3 = teste.replace(teste, \"Quarto\") # substitui variável teste por quarto\n",
        "subst4 = teste.replace(\"primeiro\", \"Quarto\") # não substitui pois é case sensitive\n",
        "print(teste)\n",
        "print(subst1)\n",
        "print(subst2)\n",
        "print(subst3)\n",
        "print(subst4, \"Notar que é case sensitive!\")\n",
        "print(teste.replace(\"Primeiro\", \"1º\"))    # dá pra usar direto no print!\n",
        "numero = 12.3\n",
        "print(numero)\n",
        "numero_str = str(numero)\n",
        "print(numero_str.replace(\".\", \",\"))   # transformando a variável em string dá pra trocar . por ,"
      ],
      "execution_count": 76,
      "outputs": [
        {
          "output_type": "stream",
          "text": [
            "Primeiro Teste\n",
            "Mais outro teste\n",
            "14\n",
            "16\n",
            "Primeiro Teste Mais outro teste\n",
            "Primeiro Teste\n",
            "Primeiro Segundo\n",
            "Terceiro\n",
            "Quarto\n",
            "Primeiro Teste Notar que é case sensitive!\n",
            "1º Teste\n",
            "12.3\n",
            "12,3\n"
          ],
          "name": "stdout"
        }
      ]
    },
    {
      "cell_type": "markdown",
      "metadata": {
        "id": "0zqB42xfuey7"
      },
      "source": [
        "# Operadores e operações"
      ]
    },
    {
      "cell_type": "markdown",
      "metadata": {
        "id": "QtEpVxxnbeHc"
      },
      "source": [
        "## Operações aritméticas com Booleanos"
      ]
    },
    {
      "cell_type": "code",
      "metadata": {
        "colab": {
          "base_uri": "https://localhost:8080/"
        },
        "id": "a7PTNMQybnt3",
        "outputId": "8362e158-6cac-4942-9f2f-549ff14cb17f"
      },
      "source": [
        "print(\"True + True =\", True + True)\n",
        "print(\"True + False =\", True + False)\n",
        "print(\"True * True =\", True * True)\n",
        "print(\"True * False =\", True * False)\n",
        "print(\"True + 4 * True =\", True + 4 * True)\n",
        "True + 4 * True"
      ],
      "execution_count": 18,
      "outputs": [
        {
          "output_type": "stream",
          "text": [
            "True + True = 2\n",
            "True + False = 1\n",
            "True * True = 1\n",
            "True * False = 0\n",
            "True + 4 * True = 5\n"
          ],
          "name": "stdout"
        },
        {
          "output_type": "execute_result",
          "data": {
            "text/plain": [
              "5"
            ]
          },
          "metadata": {
            "tags": []
          },
          "execution_count": 18
        }
      ]
    },
    {
      "cell_type": "markdown",
      "metadata": {
        "id": "-hBL4YVHuhkP"
      },
      "source": [
        "## Operadores aritméticos"
      ]
    },
    {
      "cell_type": "code",
      "metadata": {
        "colab": {
          "base_uri": "https://localhost:8080/"
        },
        "id": "waoSPl0yuvmL",
        "outputId": "c054e709-cad4-47b2-a79c-b51d37d98b34"
      },
      "source": [
        "print(17 + 7)\n",
        "print(17 - 7)\n",
        "print(17 * 7)\n",
        "print(17 / 7)\n",
        "print(17 // 7)  # módulo da divisão\n",
        "print(17 % 7)   # resto da divisão\n",
        "print(17 ** 7)  # potenciação\n",
        "print(17 ** 0.5)    # raiz funciona assim também\n",
        "print(17 ** (1/2))  # raiz funciona assim também\n",
        "print(17 ** (1/3))  # raiz funciona assim também\n",
        "\n"
      ],
      "execution_count": 97,
      "outputs": [
        {
          "output_type": "stream",
          "text": [
            "24\n",
            "10\n",
            "119\n",
            "2.4285714285714284\n",
            "2\n",
            "3\n",
            "410338673\n",
            "4.123105625617661\n",
            "4.123105625617661\n",
            "2.571281590658235\n"
          ],
          "name": "stdout"
        }
      ]
    },
    {
      "cell_type": "markdown",
      "metadata": {
        "id": "rl73Kj4ew5Df"
      },
      "source": [
        "## Biblioteca math"
      ]
    },
    {
      "cell_type": "code",
      "metadata": {
        "colab": {
          "base_uri": "https://localhost:8080/"
        },
        "id": "AH5_Ns_Nw8ZK",
        "outputId": "1bd5173c-9b8d-4919-d0a3-734633f5e6d3"
      },
      "source": [
        "import math\n",
        "numero = 10\n",
        "print(math.sqrt(numero)) # raiz\n",
        "print(math.log(numero))  # log\n",
        "print (math.pi)\n",
        "print (math.e)"
      ],
      "execution_count": 94,
      "outputs": [
        {
          "output_type": "stream",
          "text": [
            "3.1622776601683795\n",
            "2.302585092994046\n",
            "3.141592653589793\n",
            "2.718281828459045\n"
          ],
          "name": "stdout"
        }
      ]
    },
    {
      "cell_type": "markdown",
      "metadata": {
        "id": "efsfYR66yHmm"
      },
      "source": [
        "## Operadores de atribuição"
      ]
    },
    {
      "cell_type": "code",
      "metadata": {
        "colab": {
          "base_uri": "https://localhost:8080/"
        },
        "id": "EHVjvBDSy5dp",
        "outputId": "a5b9f3bd-24e3-494d-92e5-f697f3aff929"
      },
      "source": [
        "a = 1\n",
        "b = 1\n",
        "c = 1\n",
        "d = 1\n",
        "\n",
        "# atribui o valor e em seguida realiza a operação aritmética\n",
        "a += 2  # a = a + 2\n",
        "b -= 3  # b = b - 3\n",
        "c *= 4  # c = c * 4\n",
        "d /=5   # d = d / 5\n",
        "\n",
        "print(a)\n",
        "print(b)\n",
        "print(c)\n",
        "print(d)"
      ],
      "execution_count": 96,
      "outputs": [
        {
          "output_type": "stream",
          "text": [
            "3\n",
            "-2\n",
            "4\n",
            "0.2\n"
          ],
          "name": "stdout"
        }
      ]
    }
  ]
}