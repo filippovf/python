{
  "nbformat": 4,
  "nbformat_minor": 0,
  "metadata": {
    "colab": {
      "name": "Curso Introdução Python na Ocean",
      "provenance": [],
      "collapsed_sections": [
        "p-q9cZL2tPvE",
        "SyJDtR9DAI8V",
        "TF1tX30Pj6dT",
        "gTtyE3plpq4x",
        "VDMbefBAS-KF",
        "ijwzL2WXdZ-J",
        "-ANKx0APoL9w",
        "QtEpVxxnbeHc"
      ],
      "toc_visible": true,
      "include_colab_link": true
    },
    "kernelspec": {
      "name": "python3",
      "display_name": "Python 3"
    },
    "language_info": {
      "name": "python"
    }
  },
  "cells": [
    {
      "cell_type": "markdown",
      "metadata": {
        "id": "view-in-github",
        "colab_type": "text"
      },
      "source": [
        "<a href=\"https://colab.research.google.com/github/filippovf/python/blob/main/Curso_Introdu%C3%A7%C3%A3o_Python_na_Ocean.ipynb\" target=\"_parent\"><img src=\"https://colab.research.google.com/assets/colab-badge.svg\" alt=\"Open In Colab\"/></a>"
      ]
    },
    {
      "cell_type": "markdown",
      "metadata": {
        "id": "p-q9cZL2tPvE"
      },
      "source": [
        "# Introdução"
      ]
    },
    {
      "cell_type": "markdown",
      "metadata": {
        "id": "9UIONcdt4XkZ"
      },
      "source": [
        "Um pouco sobre a história da computação.\n",
        "\n",
        "O que é programação?\n",
        "\n",
        "O que é um programa de computador?\n",
        "\n",
        "O que é um algoritmo?"
      ]
    },
    {
      "cell_type": "markdown",
      "metadata": {
        "id": "SyJDtR9DAI8V"
      },
      "source": [
        "# Python\n",
        "\n",
        "\n",
        "\n"
      ]
    },
    {
      "cell_type": "markdown",
      "metadata": {
        "id": "4Uk86fj44bvP"
      },
      "source": [
        "Aplicações python\n",
        "\n",
        "Ambientes de programação python\n",
        "* Colab\n",
        "* repl.it\n",
        "* site do Python\n",
        "* Terminal"
      ]
    },
    {
      "cell_type": "markdown",
      "metadata": {
        "id": "TF1tX30Pj6dT"
      },
      "source": [
        "# A linguagem Python"
      ]
    },
    {
      "cell_type": "code",
      "metadata": {
        "colab": {
          "base_uri": "https://localhost:8080/"
        },
        "id": "z9DaUt8NkEMb",
        "outputId": "5f42e7de-7cde-4e93-a932-379bb274b27f"
      },
      "source": [
        "print(\"Hello World\") #  Este é um comentário"
      ],
      "execution_count": null,
      "outputs": [
        {
          "output_type": "stream",
          "text": [
            "Hello World\n"
          ],
          "name": "stdout"
        }
      ]
    },
    {
      "cell_type": "markdown",
      "metadata": {
        "id": "gTtyE3plpq4x"
      },
      "source": [
        "# Tipos de dados em python"
      ]
    },
    {
      "cell_type": "code",
      "metadata": {
        "colab": {
          "base_uri": "https://localhost:8080/"
        },
        "id": "SsGvi_VXpxNc",
        "outputId": "ebbd80e3-9818-4433-be4c-aadcadf6d70e"
      },
      "source": [
        "print(\"Tipos de Dados em Pyhton:\\n\")\n",
        "print('27 =', type(27)) # O tipo de dados do número 27 é int(numero inteiro)\n",
        "print('2.7 =', type(2.7)) # O tipo de dados do número 2.7 é int(numero float)\n",
        "print('\"27\" =', type('27')) # O tipo de dados docom aspas é string\n",
        "print('2.7 + 2j =', type(2.7 + 2j)) # O tipo de dados complexo usa o j\n",
        "print('True or False =', type(True)) # O tipo de dados True or False é booleano\n",
        "print(type(27)) # O tipo de dados do número 27 é int(numero inteiro)\n",
        "print(type(2.7)) # O tipo de dados do número 2.7 é int(numero float)\n",
        "print(type('27')) # O tipo de dados docom aspas é string\n",
        "print(type(2.7 + 2j)) # O tipo de dados complexo usa o j\n",
        "print(type(True)) # O tipo de dados True or False é booleano\n",
        "print(\"\\nHello \\nWorld!\") # O \\n pula linha como no bash\n",
        "print('Pode usar \"aspas\" duplas mantendo a string inteira em aspas simples e usar \\\\n para pular linha')\n",
        "# uma \\ adicional mata a \\ tratando-a como caractere comum"
      ],
      "execution_count": null,
      "outputs": [
        {
          "output_type": "stream",
          "text": [
            "Tipos de Dados em Pyhton:\n",
            "\n",
            "27 = <class 'int'>\n",
            "2.7 = <class 'float'>\n",
            "\"27\" = <class 'str'>\n",
            "2.7 + 2j = <class 'complex'>\n",
            "True or False = <class 'bool'>\n",
            "<class 'int'>\n",
            "<class 'float'>\n",
            "<class 'str'>\n",
            "<class 'complex'>\n",
            "<class 'bool'>\n",
            "\n",
            "Hello \n",
            "World!\n",
            "Pode usar \"aspas\" duplas mantendo a string inteira em aspas simples e usar \\n para pular linha\n"
          ],
          "name": "stdout"
        }
      ]
    },
    {
      "cell_type": "markdown",
      "metadata": {
        "id": "YX1NbqMIBIek"
      },
      "source": [
        "# Declarando e usando variáveis"
      ]
    },
    {
      "cell_type": "code",
      "metadata": {
        "id": "-ULOiwiJROi1"
      },
      "source": [
        ""
      ],
      "execution_count": null,
      "outputs": []
    },
    {
      "cell_type": "code",
      "metadata": {
        "id": "SWSdRFbAvPGL",
        "colab": {
          "base_uri": "https://localhost:8080/"
        },
        "outputId": "fd1e8af4-e311-4542-c3be-c7e65c85984b"
      },
      "source": [
        "print('Declarando e usando variáveis:\\n')\n",
        "aluno = \"Filippo\"\n",
        "pi = 3.1415926536\n",
        "status = True\n",
        "print(aluno)\n",
        "print(pi)\n",
        "print('circunferência de raio 1 =', pi * 2 * 1)\n",
        "print(2 * pi)\n",
        "print(status)\n",
        "print(aluno, pi, status)"
      ],
      "execution_count": null,
      "outputs": [
        {
          "output_type": "stream",
          "text": [
            "Declarando e usando variáveis:\n",
            "\n",
            "Filippo\n",
            "3.1415926536\n",
            "circunferência de raio 1 = 6.2831853072\n",
            "6.2831853072\n",
            "True\n",
            "Filippo 3.1415926536 True\n"
          ],
          "name": "stdout"
        }
      ]
    },
    {
      "cell_type": "markdown",
      "metadata": {
        "id": "VDMbefBAS-KF"
      },
      "source": [
        "## Concatenando variáveis e alterando os tipos"
      ]
    },
    {
      "cell_type": "code",
      "metadata": {
        "colab": {
          "base_uri": "https://localhost:8080/"
        },
        "id": "42YwYK27TI7n",
        "outputId": "2825c58a-51f7-4bf7-b0d4-09bfcdbe4d14"
      },
      "source": [
        "nome  = \"Filippo\"\n",
        "sobrenome = \"Valiante\"\n",
        "idade = 41\n",
        "print(nome, sobrenome)\n",
        "print(nome + sobrenome)\n",
        "print(nome + \" \" + sobrenome)\n",
        "print(nome + \" \" + sobrenome, idade)\n",
        "print(nome + \" \" + sobrenome + \",\", idade)\n",
        "print(\"Olá, meu nome é \" + nome + \" \" + sobrenome + \" e minha idade é\", idade) \n",
        "print(\"Olá, meu nome é\", nome, sobrenome, \"e minha idade é\", idade) \n",
        "# Não dá pra concatenar a idade com o + porque ela é int.\n",
        "# Pra usar + idade  no print precisaria declará-lo como string \"41\")\n",
        "# Mas dá pra usar a função str() para converter para string\n",
        "print(\"Olá, meu nome é \" + nome + \" \" + sobrenome + \" e minha idade é \" + str(idade)) \n",
        "print(\"Ano que vem terei\", idade + 1, \"anos.\")\n",
        "print(type(idade))        # resulta INT\n",
        "print(type(str(idade)))   # resulta STR"
      ],
      "execution_count": null,
      "outputs": [
        {
          "output_type": "stream",
          "text": [
            "Filippo Valiante\n",
            "FilippoValiante\n",
            "Filippo Valiante\n",
            "Filippo Valiante 41\n",
            "Filippo Valiante, 41\n",
            "Olá, meu nome é Filippo Valiante e minha idade é 41\n",
            "Olá, meu nome é Filippo Valiante e minha idade é 41\n",
            "Olá, meu nome é Filippo Valiante e minha idade é 41\n",
            "Ano que vem terei 42 anos.\n",
            "<class 'int'>\n",
            "<class 'str'>\n"
          ],
          "name": "stdout"
        }
      ]
    },
    {
      "cell_type": "code",
      "metadata": {
        "colab": {
          "base_uri": "https://localhost:8080/"
        },
        "id": "M1sF_mNQY7iW",
        "outputId": "895a2b53-ff4b-4f13-f0ad-a47c3ab7335b"
      },
      "source": [
        "numero_inteiro = 100\n",
        "numero = float(numero_inteiro)\n",
        "print(numero, numero_inteiro)\n",
        "print(type(numero_inteiro))\n",
        "print(type(numero))\n",
        "numero_complexo_string = \"1+2j\"\n",
        "numero_complexo = complex(numero_complexo_string)\n",
        "print(numero_complexo,numero_complexo_string)\n",
        "print(type(numero_complexo_string))\n",
        "print(type(numero_complexo))\n",
        "# Funções str(), float(), int(), complex(), boolean()\n"
      ],
      "execution_count": null,
      "outputs": [
        {
          "output_type": "stream",
          "text": [
            "100.0 100\n",
            "<class 'int'>\n",
            "<class 'float'>\n",
            "(1+2j) 1+2j\n",
            "<class 'str'>\n",
            "<class 'complex'>\n"
          ],
          "name": "stdout"
        }
      ]
    },
    {
      "cell_type": "markdown",
      "metadata": {
        "id": "ijwzL2WXdZ-J"
      },
      "source": [
        "## Entrada de Dados"
      ]
    },
    {
      "cell_type": "code",
      "metadata": {
        "colab": {
          "base_uri": "https://localhost:8080/"
        },
        "id": "93Kit7KZdeTA",
        "outputId": "9e5f68cd-ea76-4a91-c7dc-30db891f2c33"
      },
      "source": [
        "nome = input(\"Digite o seu nome:\")\n",
        "print(\"\\nOlá\", nome + \".\\n\")\n",
        "valor = float(input(\"Qual foi o valor da conta no restaurante? \"))\n",
        "gorjeta = valor * 0.1\n",
        "print(\"\\nA gorjeta é de R$\", gorjeta)\n",
        "print(\"\\nA gorjeta é de R$\", round(gorjeta, 2))     #Arredonda para \"n\" casas\n",
        "print(\"\\nA gorjeta é de R$ {:.2f}\".format(gorjeta)) #Formata com 2 casas decimais\n",
        "print(\"\\nA gorjeta é de R$ {:.3f}\".format(gorjeta)) #Formata com 3 casas decimais\n",
        "print(\"\\nA gorjeta é de R$ {:.3f}\".format(gorjeta)) #Formata com 3 casas decimais\n",
        "print(f'A gorjeta é de R$ {gorjeta:.2f}')            #Formata com 2 casas decimais\n",
        "\n",
        "teste = 10/6\n",
        "print(\"\\n\")\n",
        "print(teste)\n",
        "print(round(teste, 2))     #Arredonda para \"n casas\n",
        "print(\"{:.2f}\".format(teste)) #Formata com 2 casas decimais\n",
        "print(\"{:.3f}\".format(teste)) #Formata com 3 casas decimais"
      ],
      "execution_count": null,
      "outputs": [
        {
          "output_type": "stream",
          "text": [
            "Digite o seu nome:ljdlffs\n",
            "\n",
            "Olá ljdlffs.\n",
            "\n",
            "Qual foi o valor da conta no restaurante? 35646\n",
            "\n",
            "A gorjeta é de R$ 3564.6000000000004\n",
            "\n",
            "A gorjeta é de R$ 3564.6\n",
            "\n",
            "A gorjeta é de R$ 3564.60\n",
            "\n",
            "A gorjeta é de R$ 3564.600\n",
            "\n",
            "A gorjeta é de R$ 3564.600\n",
            "A gorjeta é de R$ 3564.60\n",
            "\n",
            "\n",
            "1.6666666666666667\n",
            "1.67\n",
            "1.67\n",
            "1.667\n"
          ],
          "name": "stdout"
        }
      ]
    },
    {
      "cell_type": "markdown",
      "metadata": {
        "id": "-ANKx0APoL9w"
      },
      "source": [
        "## Manipulação de strings"
      ]
    },
    {
      "cell_type": "code",
      "metadata": {
        "colab": {
          "base_uri": "https://localhost:8080/"
        },
        "id": "_H4MsCROoSE5",
        "outputId": "55d3348a-a293-42dd-9ece-bfd71ffe9042"
      },
      "source": [
        "teste = \"Primeiro Teste\"\n",
        "segundo_teste = \"Mais outro teste\"\n",
        "print(teste)\n",
        "print(segundo_teste)\n",
        "print(len(teste))           # len() mostra o tamanho da variável\n",
        "print(len(segundo_teste))   # len() mostra o tamanho da variável\n",
        "print(teste + \" \" + segundo_teste)    # concatenação\n",
        "subst1 = teste.replace(\"Teste\", \"Segundo\") # substitui a palavra teste por segundo\n",
        "subst2 = teste.replace(\"Primeiro Teste\", \"Terceiro\") # substitui toda a expressão por segundo\n",
        "subst3 = teste.replace(teste, \"Quarto\") # substitui variável teste por quarto\n",
        "subst4 = teste.replace(\"primeiro\", \"Quarto\") # não substitui pois é case sensitive\n",
        "print(teste)\n",
        "print(subst1)\n",
        "print(subst2)\n",
        "print(subst3)\n",
        "print(subst4, \"Notar que é case sensitive!\")\n",
        "print(teste.replace(\"Primeiro\", \"1º\"))    # dá pra usar direto no print!\n",
        "numero = 12.3\n",
        "print(numero)\n",
        "numero_str = str(numero)\n",
        "print(numero_str.replace(\".\", \",\"))   # transformando a variável em string dá pra trocar . por ,"
      ],
      "execution_count": null,
      "outputs": [
        {
          "output_type": "stream",
          "text": [
            "Primeiro Teste\n",
            "Mais outro teste\n",
            "14\n",
            "16\n",
            "Primeiro Teste Mais outro teste\n",
            "Primeiro Teste\n",
            "Primeiro Segundo\n",
            "Terceiro\n",
            "Quarto\n",
            "Primeiro Teste Notar que é case sensitive!\n",
            "1º Teste\n",
            "12.3\n",
            "12,3\n"
          ],
          "name": "stdout"
        }
      ]
    },
    {
      "cell_type": "markdown",
      "metadata": {
        "id": "0zqB42xfuey7"
      },
      "source": [
        "# Operadores e operações"
      ]
    },
    {
      "cell_type": "markdown",
      "metadata": {
        "id": "QtEpVxxnbeHc"
      },
      "source": [
        "## Operações aritméticas com Booleanos"
      ]
    },
    {
      "cell_type": "code",
      "metadata": {
        "colab": {
          "base_uri": "https://localhost:8080/"
        },
        "id": "a7PTNMQybnt3",
        "outputId": "82c75fb3-aee9-4aa9-fd87-d21a34928f1b"
      },
      "source": [
        "print(\"True + True =\", True + True)\n",
        "print(\"True + False =\", True + False)\n",
        "print(\"True * True =\", True * True)\n",
        "print(\"True * False =\", True * False)\n",
        "print(\"True + 4 * True =\", True + 4 * True)\n",
        "True + 4 * True"
      ],
      "execution_count": null,
      "outputs": [
        {
          "output_type": "stream",
          "text": [
            "True + True = 2\n",
            "True + False = 1\n",
            "True * True = 1\n",
            "True * False = 0\n",
            "True + 4 * True = 5\n"
          ],
          "name": "stdout"
        },
        {
          "output_type": "execute_result",
          "data": {
            "text/plain": [
              "5"
            ]
          },
          "metadata": {},
          "execution_count": 1
        }
      ]
    },
    {
      "cell_type": "markdown",
      "metadata": {
        "id": "-hBL4YVHuhkP"
      },
      "source": [
        "## Operadores aritméticos"
      ]
    },
    {
      "cell_type": "code",
      "metadata": {
        "colab": {
          "base_uri": "https://localhost:8080/"
        },
        "id": "waoSPl0yuvmL",
        "outputId": "c054e709-cad4-47b2-a79c-b51d37d98b34"
      },
      "source": [
        "print(17 + 7)\n",
        "print(17 - 7)\n",
        "print(17 * 7)\n",
        "print(17 / 7)\n",
        "print(17 // 7)  # módulo da divisão\n",
        "print(17 % 7)   # resto da divisão\n",
        "print(17 ** 7)  # potenciação\n",
        "print(17 ** 0.5)    # raiz funciona assim também\n",
        "print(17 ** (1/2))  # raiz funciona assim também\n",
        "print(17 ** (1/3))  # raiz funciona assim também\n",
        "\n"
      ],
      "execution_count": null,
      "outputs": [
        {
          "output_type": "stream",
          "text": [
            "24\n",
            "10\n",
            "119\n",
            "2.4285714285714284\n",
            "2\n",
            "3\n",
            "410338673\n",
            "4.123105625617661\n",
            "4.123105625617661\n",
            "2.571281590658235\n"
          ],
          "name": "stdout"
        }
      ]
    },
    {
      "cell_type": "markdown",
      "metadata": {
        "id": "rl73Kj4ew5Df"
      },
      "source": [
        "## Biblioteca math"
      ]
    },
    {
      "cell_type": "code",
      "metadata": {
        "colab": {
          "base_uri": "https://localhost:8080/"
        },
        "id": "AH5_Ns_Nw8ZK",
        "outputId": "1bd5173c-9b8d-4919-d0a3-734633f5e6d3"
      },
      "source": [
        "import math\n",
        "numero = 10\n",
        "print(math.sqrt(numero)) # raiz\n",
        "print(math.log(numero))  # log\n",
        "print (math.pi)\n",
        "print (math.e)"
      ],
      "execution_count": null,
      "outputs": [
        {
          "output_type": "stream",
          "text": [
            "3.1622776601683795\n",
            "2.302585092994046\n",
            "3.141592653589793\n",
            "2.718281828459045\n"
          ],
          "name": "stdout"
        }
      ]
    },
    {
      "cell_type": "markdown",
      "metadata": {
        "id": "sjzN2hhIeoTw"
      },
      "source": [
        "##Bibliotecas de data e hora"
      ]
    },
    {
      "cell_type": "code",
      "metadata": {
        "colab": {
          "base_uri": "https://localhost:8080/"
        },
        "id": "-hWVO8kuet0A",
        "outputId": "77a5e496-b801-40d6-a8a2-3d11f918670e"
      },
      "source": [
        "from datetime import datetime\n",
        "from datetime import date\n",
        "from dateutil import tz\n",
        "\n",
        "data_hj = date(year=2021, month=8, day=25)\n",
        "print(data_hj)\n",
        " \n",
        "\n",
        "print(datetime.today()) # Data atual\n",
        "print(datetime.now().isoformat()) # Data atual\n",
        "print(datetime.now().) # Data atual\n",
        "\n",
        "print(datetime.today().strftime('%Y-%d-%m'))# Alterando o formato da data\n",
        "print(datetime.today().strftime('%Y-%m-%d %H:%M')) # Tirando os milesegundos\n",
        "print(datetime.today().strftime('%A, %B %d, %Y %H:%M:%S'))# Incluindo os dias da semana \n",
        "print(datetime.today(), tz.tzlocal()) # Data atual"
      ],
      "execution_count": 4,
      "outputs": [
        {
          "output_type": "stream",
          "text": [
            "2021-08-25\n",
            "2021-08-25 18:03:34.361274\n",
            "2021-08-25T18:03:34.361932\n",
            "2021-25-08\n",
            "2021-08-25 18:03\n",
            "Wednesday, August 25, 2021 18:03:34\n",
            "2021-08-25 18:03:34.363875 tzlocal()\n"
          ],
          "name": "stdout"
        }
      ]
    },
    {
      "cell_type": "markdown",
      "metadata": {
        "id": "efsfYR66yHmm"
      },
      "source": [
        "## Operadores de atribuição"
      ]
    },
    {
      "cell_type": "code",
      "metadata": {
        "colab": {
          "base_uri": "https://localhost:8080/"
        },
        "id": "EHVjvBDSy5dp",
        "outputId": "a5b9f3bd-24e3-494d-92e5-f697f3aff929"
      },
      "source": [
        "a = 1\n",
        "b = 1\n",
        "c = 1\n",
        "d = 1\n",
        "\n",
        "# atribui o valor e em seguida realiza a operação aritmética\n",
        "a += 2  # a = a + 2\n",
        "b -= 3  # b = b - 3\n",
        "c *= 4  # c = c * 4\n",
        "d /=5   # d = d / 5\n",
        "\n",
        "print(a)\n",
        "print(b)\n",
        "print(c)\n",
        "print(d)"
      ],
      "execution_count": null,
      "outputs": [
        {
          "output_type": "stream",
          "text": [
            "3\n",
            "-2\n",
            "4\n",
            "0.2\n"
          ],
          "name": "stdout"
        }
      ]
    },
    {
      "cell_type": "markdown",
      "metadata": {
        "id": "9Kdb7tbEOuRl"
      },
      "source": [
        "## Operadores de comparação"
      ]
    },
    {
      "cell_type": "code",
      "metadata": {
        "colab": {
          "base_uri": "https://localhost:8080/"
        },
        "id": "PU9cWtfjO1ni",
        "outputId": "0770787b-add4-4981-c7d2-f76c4290e3b8"
      },
      "source": [
        "# == representa igualdade\n",
        "# != representa diferente\n",
        "print(\"igualdade e diferença:\")\n",
        "print(7 == 7)\n",
        "print(2.5 == 2.5)\n",
        "print(\"texto\" == \"txt\") #retorna \"False\"\n",
        "print(\"texto\" != \"txt\") #retorna \"True\"\n",
        "\n",
        "# > e < se comportam como esperado\n",
        "# bem como >=  e  <=\n",
        "print(\"maior e menor\")\n",
        "print(10 > 9)\n",
        "print(8 > 9)\n",
        "print(10 < 9)\n",
        "print(8 < 9)\n",
        "print(8 >= 9)\n",
        "print(9 >= 9)\n",
        "print(10 >= 9)"
      ],
      "execution_count": null,
      "outputs": [
        {
          "output_type": "stream",
          "text": [
            "igualdade e diferença:\n",
            "True\n",
            "True\n",
            "False\n",
            "True\n",
            "maior e menor\n",
            "True\n",
            "False\n",
            "False\n",
            "True\n",
            "False\n",
            "True\n",
            "True\n"
          ],
          "name": "stdout"
        }
      ]
    },
    {
      "cell_type": "code",
      "metadata": {
        "colab": {
          "base_uri": "https://localhost:8080/"
        },
        "id": "6RmB-D86QcFp",
        "outputId": "98f8a756-8e62-43a0-9faf-f5ef8688bae6"
      },
      "source": [
        "# Checagem de maioridade\n",
        "idade = input(\"Qual a sua idade?\")\n",
        "print(\"Maior de idade:\", int(idade) >= 18)"
      ],
      "execution_count": null,
      "outputs": [
        {
          "output_type": "stream",
          "text": [
            "Qual a sua idade?5\n",
            "Maior de idade: False\n"
          ],
          "name": "stdout"
        }
      ]
    },
    {
      "cell_type": "markdown",
      "metadata": {
        "id": "r7y7ga00TQGH"
      },
      "source": [
        "## Números formatados"
      ]
    },
    {
      "cell_type": "code",
      "metadata": {
        "colab": {
          "base_uri": "https://localhost:8080/"
        },
        "id": "j28HNC12TTW7",
        "outputId": "67e49161-a1e0-469e-d6f3-4c66b3688bdd"
      },
      "source": [
        "porcentagem = 0.10  # float\n",
        "valor_conta = 123   # int\n",
        "\n",
        "gorjeta = porcentagem * valor_conta # Aqui gorjeta é uma variável numérica\n",
        "print(gorjeta)\n",
        "print(type(gorjeta))\n",
        "\n",
        "# usando Format String\n",
        "# notar o uso da variável entre chaves\n",
        "# e o f no começo\n",
        "print (f\"A gorjeta do garçom é: {gorjeta} - impressa usando fstring!\")\n",
        "print (\"A gorjeta do garçom é: {gorjeta} - se esquecer o f sai assim...\")\n",
        "\n",
        "\n",
        "# E agora gorjeta_nova será uma string!\n",
        "# Mas a conta é feita da mesma forma!\n",
        "# A variável gorjeta_nova fica com todo o texto e o resultado da operação\n",
        "# Mas o uso do Format String é mais elegante\n",
        "gorjeta_nova = \"A gorjeta do garçom é \" + str(porcentagem * valor_conta)\n",
        "print(gorjeta_nova)\n",
        "print(type(gorjeta_nova))\n",
        "\n",
        "\n"
      ],
      "execution_count": null,
      "outputs": [
        {
          "output_type": "stream",
          "text": [
            "12.3\n",
            "<class 'float'>\n",
            "A gorjeta do garçom é: 12.3 - impressa usando fstring!\n",
            "A gorjeta do garçom é: {gorjeta} - se esquecer o f sai assim...\n",
            "A gorjeta do garçom é 12.3\n",
            "<class 'str'>\n"
          ],
          "name": "stdout"
        }
      ]
    },
    {
      "cell_type": "code",
      "metadata": {
        "colab": {
          "base_uri": "https://localhost:8080/"
        },
        "id": "Vpt4DkjWZf0z",
        "outputId": "923ede01-5599-4618-a083-3c8a580a6d3a"
      },
      "source": [
        "#COnversão de polegadas em centímetros\n",
        "medida_polegada = float(input(\"Qual a medida em polegadas? \"))\n",
        "medida_cm = medida_polegada * 2.54\n",
        "print(medida_polegada, \"polegadas equivale a\", medida_cm, \"cm.\")\n",
        "# Com o format string dá pra ajustar quantidade de casas:\n",
        "print(f\"{medida_polegada}\\\" equivale a {medida_cm:.2f}cm.\")"
      ],
      "execution_count": null,
      "outputs": [
        {
          "output_type": "stream",
          "text": [
            "Qual a medida em polegadas? 2487\n",
            "2487.0 polegadas equivale a 6316.9800000000005 cm.\n",
            "2487.0\" equivale a 6316.98cm.\n"
          ],
          "name": "stdout"
        }
      ]
    },
    {
      "cell_type": "markdown",
      "metadata": {
        "id": "euD8MHQAfDBr"
      },
      "source": [
        "# Coleções de dados"
      ]
    },
    {
      "cell_type": "markdown",
      "metadata": {
        "id": "L6kzZmbTfGKC"
      },
      "source": [
        "## Listas"
      ]
    },
    {
      "cell_type": "code",
      "metadata": {
        "colab": {
          "base_uri": "https://localhost:8080/"
        },
        "id": "7bDjvHUqfIka",
        "outputId": "5a0167e8-5fd5-4e27-af2f-ba19f118c4bd"
      },
      "source": [
        "# Trabalhando com listas\n",
        "# Listas são declaradas com []\n",
        "\n",
        "frutas = [\"maçã\", \"banana\", \"manga\", \"ameixa\"]\n",
        "print(frutas)\n",
        "print(type(frutas))\n",
        "print(len(frutas), \"elementos na lista.\")\n",
        "print(frutas[0]) # a lista começa no zero!\n",
        "print(frutas[2])\n",
        "frutas[3] = \"nectarina\" # trocando um elemento\n",
        "print(frutas)\n",
        "\n",
        "# Para inserir um novo elemento no final da lista:\n",
        "frutas.append(\"pêssego\")\n",
        "print(frutas)\n",
        "print(frutas[len(frutas)-1])\n",
        "print(len(frutas), \"elementos na lista.\")\n",
        "\n",
        "# Para inserir um novo elemento em qualquer local da lista:\n",
        "frutas.insert(0, \"morango\")\n",
        "frutas.insert(2, \"ameixa\")\n",
        "print(frutas)\n",
        "print(len(frutas), \"elementos na lista.\")\n",
        "\n",
        "# Para remover um elemento pelo nome:\n",
        "frutas.remove(\"morango\")\n",
        "print(frutas)\n",
        "print(len(frutas), \"elementos na lista.\")\n",
        "frutas.append(\"pêssego\") # dupliquei o último elemento\n",
        "print(frutas)\n",
        "frutas.remove(\"pêssego\") # ele só removeu um\n",
        "print(frutas)\n",
        "\n",
        "# Para remover um elemento pelo índice:\n",
        "frutas.pop(4)\n",
        "print(frutas)\n",
        "\n",
        "# Para ordenar:\n",
        "numeros = [7,1,5,3,4]\n",
        "numeros.sort()\n",
        "frutas.sort()\n",
        "print(frutas)\n",
        "print(numeros)\n",
        "\n",
        "# Listas podem conter tipos de dados diferentes\n",
        "# inclusive listas dentro de listas!!!\n",
        "listao = [5, 8, 10, 15, True, \"texto\", [\"outralista\", 42, \"elemento\"]]\n",
        "print(listao)\n",
        "print(len(listao))\n",
        "print(listao[6]) # O elemento 6 (o 7º) é a lista dentro da lista\n",
        "print(listao[6][1])\n",
        "print(listao[6][2])\n",
        "listao[6].append(\"outro valor\") # direciona para a lista dentro da lista\n",
        "listao[6].insert(3,\"mais um\") # direciona para a lista dentro da lista\n",
        "print(listao)\n",
        "print(listao[6][3])\n",
        "print(type(listao[6][3]))\n",
        "\n"
      ],
      "execution_count": 64,
      "outputs": [
        {
          "output_type": "stream",
          "text": [
            "['maçã', 'banana', 'manga', 'ameixa']\n",
            "<class 'list'>\n",
            "4 elementos na lista.\n",
            "maçã\n",
            "manga\n",
            "['maçã', 'banana', 'manga', 'nectarina']\n",
            "['maçã', 'banana', 'manga', 'nectarina', 'pêssego']\n",
            "pêssego\n",
            "5 elementos na lista.\n",
            "['morango', 'maçã', 'ameixa', 'banana', 'manga', 'nectarina', 'pêssego']\n",
            "7 elementos na lista.\n",
            "['maçã', 'ameixa', 'banana', 'manga', 'nectarina', 'pêssego']\n",
            "6 elementos na lista.\n",
            "['maçã', 'ameixa', 'banana', 'manga', 'nectarina', 'pêssego', 'pêssego']\n",
            "['maçã', 'ameixa', 'banana', 'manga', 'nectarina', 'pêssego']\n",
            "['maçã', 'ameixa', 'banana', 'manga', 'pêssego']\n",
            "['ameixa', 'banana', 'manga', 'maçã', 'pêssego']\n",
            "[1, 3, 4, 5, 7]\n",
            "[5, 8, 10, 15, True, 'texto', ['outralista', 42, 'elemento']]\n",
            "7\n",
            "['outralista', 42, 'elemento']\n",
            "42\n",
            "elemento\n",
            "[5, 8, 10, 15, True, 'texto', ['outralista', 42, 'elemento', 'mais um', 'outro valor']]\n",
            "mais um\n",
            "<class 'str'>\n"
          ],
          "name": "stdout"
        }
      ]
    },
    {
      "cell_type": "markdown",
      "metadata": {
        "id": "K2fMoAiWnFIe"
      },
      "source": [
        "## Dicionário"
      ]
    },
    {
      "cell_type": "markdown",
      "metadata": {
        "id": "Pt-k42URwXop"
      },
      "source": [
        "#Controle"
      ]
    },
    {
      "cell_type": "markdown",
      "metadata": {
        "id": "ac5JyqXbnR0o"
      },
      "source": [
        "Trabalha com chave - valor\n",
        "\n",
        "{'chave':'valor'}"
      ]
    },
    {
      "cell_type": "code",
      "metadata": {
        "colab": {
          "base_uri": "https://localhost:8080/"
        },
        "id": "mQsXT8YhnJc8",
        "outputId": "5703debb-886a-443c-c3f5-79820c2eba37"
      },
      "source": [
        "# dicionários usam chave : valor\n",
        "dicionario = {'nome':'Filippo', 'idade':41, 'altura':1.82}\n",
        "print(dicionario)\n",
        "print(dicionario['nome'])\n",
        "print(dicionario['nome'],dicionario['idade'])\n",
        "print(dicionario['nome'] + \", \" + str(dicionario['idade']))\n",
        "\n",
        "# Adicionando entradas\n",
        "dicionario['cpf'] = 23456789012\n",
        "print(dicionario)\n",
        "print(len(dicionario), \"pares de valores no dicionário.\")\n",
        "\n",
        "# Remoção de entradas\n",
        "dicionario.pop('altura') # ou usar ('altura', None)\n",
        "print(dicionario)\n",
        "print(len(dicionario), \"pares de valores no dicionário.\")\n",
        "\n",
        "# Dá pra criar um dicionário que contém listas\n",
        "dicio_lista = {'frutas':['maçã', 'banana', 'manga', 'ameixa'], 'nome' : 'Filippo'}\n",
        "print(dicio_lista)\n",
        "print(len(dicio_lista), \"pares de valores no dicionário.\")"
      ],
      "execution_count": 82,
      "outputs": [
        {
          "output_type": "stream",
          "text": [
            "{'nome': 'Filippo', 'idade': 41, 'altura': 1.82}\n",
            "Filippo\n",
            "Filippo 41\n",
            "Filippo, 41\n",
            "{'nome': 'Filippo', 'idade': 41, 'altura': 1.82, 'cpf': 23456789012}\n",
            "4 pares de valores no dicionário.\n",
            "{'nome': 'Filippo', 'idade': 41, 'cpf': 23456789012}\n",
            "3 pares de valores no dicionário.\n",
            "{'frutas': ['maçã', 'banana', 'manga', 'ameixa'], 'nome': 'Filippo'}\n",
            "2 pares de valores no dicionário.\n"
          ],
          "name": "stdout"
        }
      ]
    },
    {
      "cell_type": "markdown",
      "metadata": {
        "id": "gCcb4Hlrrcfw"
      },
      "source": [
        "## Condicionais"
      ]
    },
    {
      "cell_type": "code",
      "metadata": {
        "colab": {
          "base_uri": "https://localhost:8080/"
        },
        "id": "i-18qNFxrmwi",
        "outputId": "1e782214-b35e-4348-8700-b865d072eb74"
      },
      "source": [
        "# Checagem de maioridade 2\n",
        "# Agora com IF\n",
        "idade = int(input(\"Qual a sua idade? \\n\\n\"))\n",
        "if idade >= 18:\n",
        "  print(\"Maior de idade.\")\n",
        "else:\n",
        "  print(\"Menor de idade.\")"
      ],
      "execution_count": 89,
      "outputs": [
        {
          "output_type": "stream",
          "text": [
            "Qual a sua idade? \n",
            "\n",
            "19\n",
            "Maior de idade.\n"
          ],
          "name": "stdout"
        }
      ]
    },
    {
      "cell_type": "code",
      "metadata": {
        "colab": {
          "base_uri": "https://localhost:8080/"
        },
        "id": "dmzH_gyjsRbf",
        "outputId": "88af6227-55e4-4560-9dbb-3232d8ff4085"
      },
      "source": [
        "# Checagem de maioridade 3\n",
        "# Agora com IF e ELIF\n",
        "idade = int(input(\"Qual a sua idade? \\n\\n\"))\n",
        "acompanhado = input(\"Está acompanhado? [s/n]\")\n",
        "print(acompanhado)\n",
        "if idade >= 18:\n",
        "  print(\"Maior de idade.\")\n",
        "elif acompanhado == \"s\":\n",
        "  print(\"Menor de idade, mas está acompanhado...\")\n",
        "else:\n",
        "  print(\"Menor de idade.\")"
      ],
      "execution_count": 108,
      "outputs": [
        {
          "output_type": "stream",
          "text": [
            "Qual a sua idade? \n",
            "\n",
            "15\n",
            "Está acompanhado? [s/n]n\n",
            "n\n",
            "Menor de idade.\n"
          ],
          "name": "stdout"
        }
      ]
    },
    {
      "cell_type": "markdown",
      "metadata": {
        "id": "YvvEvPG7weDZ"
      },
      "source": [
        "## While"
      ]
    },
    {
      "cell_type": "code",
      "metadata": {
        "colab": {
          "base_uri": "https://localhost:8080/"
        },
        "id": "TXeDY4xkwf19",
        "outputId": "0db61795-cfa1-42c0-9cf0-bc3dd7103cd1"
      },
      "source": [
        "numero = 15\n",
        "while numero > 5:\n",
        "  print(numero)\n",
        "  numero -= 1 # Ou numero = numero - 1\n",
        "print(\"Acabou.\")"
      ],
      "execution_count": 110,
      "outputs": [
        {
          "output_type": "stream",
          "text": [
            "15\n",
            "14\n",
            "13\n",
            "12\n",
            "11\n",
            "10\n",
            "9\n",
            "8\n",
            "7\n",
            "6\n",
            "Acabou.\n"
          ],
          "name": "stdout"
        }
      ]
    },
    {
      "cell_type": "code",
      "metadata": {
        "colab": {
          "base_uri": "https://localhost:8080/"
        },
        "id": "X2Be-c1sxTF2",
        "outputId": "5b434eb6-f568-4c40-aa9d-cceb2a52ca4c"
      },
      "source": [
        "lista = [1,2,3,4,5,6,7]\n",
        "i = 0\n",
        "print(lista)\n",
        "while i < len(lista):\n",
        "  lista[i] = lista[i] + 1\n",
        "  i = i + 1\n",
        "print(\"Sua lista atualizada com todos os elementos adionados de 1 ficou:\")\n",
        "print(lista)"
      ],
      "execution_count": 117,
      "outputs": [
        {
          "output_type": "stream",
          "text": [
            "[1, 2, 3, 4, 5, 6, 7]\n",
            "Sua lista atualizada com todos os elementos adionados de 1 ficou:\n",
            "[2, 3, 4, 5, 6, 7, 8]\n"
          ],
          "name": "stdout"
        }
      ]
    },
    {
      "cell_type": "markdown",
      "metadata": {
        "id": "YpuNxa16zeSI"
      },
      "source": [
        "## For"
      ]
    },
    {
      "cell_type": "code",
      "metadata": {
        "colab": {
          "base_uri": "https://localhost:8080/"
        },
        "id": "RaCavh_VzjXn",
        "outputId": "4502a671-a788-49cd-9f46-3d351be25c1e"
      },
      "source": [
        "lista = [1,2,3,4]\n",
        "lista2 = []\n",
        "print(lista)\n",
        "print(lista2)\n",
        "\n",
        "for item in lista:\n",
        "  lista2.append(item + 1)\n",
        "print(lista2)\n"
      ],
      "execution_count": 118,
      "outputs": [
        {
          "output_type": "stream",
          "text": [
            "[1, 2, 3, 4]\n",
            "[]\n",
            "[2, 3, 4, 5]\n"
          ],
          "name": "stdout"
        }
      ]
    },
    {
      "cell_type": "markdown",
      "metadata": {
        "id": "7oRVN_Ni0EfM"
      },
      "source": [
        "# Funções"
      ]
    },
    {
      "cell_type": "markdown",
      "metadata": {
        "id": "eSVJJF_q0MEw"
      },
      "source": [
        "## Função simples"
      ]
    },
    {
      "cell_type": "code",
      "metadata": {
        "colab": {
          "base_uri": "https://localhost:8080/"
        },
        "id": "OL2Nqziy0HQY",
        "outputId": "c46a9bf9-5115-4b0f-d347-d4d570087c0d"
      },
      "source": [
        "def hello(nome):\n",
        "  print(\"Hello, \" + str(nome) + \"! Live long and prosper!\")\n",
        "\n",
        "hello(\"Filippo\")"
      ],
      "execution_count": 122,
      "outputs": [
        {
          "output_type": "stream",
          "text": [
            "Hello, Filippo! Live long and prosper!\n"
          ],
          "name": "stdout"
        }
      ]
    },
    {
      "cell_type": "markdown",
      "metadata": {
        "id": "o9ysAIov0tL3"
      },
      "source": [
        "## Função com retorno"
      ]
    },
    {
      "cell_type": "code",
      "metadata": {
        "colab": {
          "base_uri": "https://localhost:8080/"
        },
        "id": "kroeS2jW0qLu",
        "outputId": "241fc371-1c0f-469b-d872-9801a598e1c8"
      },
      "source": [
        "# Exemplo passando valores absolutos\n",
        "def calcula_gorjeta(valor_conta, porcentagem):\n",
        "  float(valor_conta)\n",
        "  float(porcentagem)\n",
        "  gorjeta = valor_conta * porcentagem\n",
        "  return gorjeta\n",
        "\n",
        "valor = calcula_gorjeta(185.3, 0.1)\n",
        "print(f\"O valor da gorjeta é de R$ {valor:.2f}\")\n",
        "\n",
        "\n"
      ],
      "execution_count": 138,
      "outputs": [
        {
          "output_type": "stream",
          "text": [
            "O valor da gorjeta é de R$ 18.53\n"
          ],
          "name": "stdout"
        }
      ]
    },
    {
      "cell_type": "code",
      "metadata": {
        "colab": {
          "base_uri": "https://localhost:8080/"
        },
        "id": "1locL1t-1e4f",
        "outputId": "822d2050-e33a-40eb-8c60-69606c114367"
      },
      "source": [
        "# Exemplo passando valores a partir de uma variável\n",
        "def calcula_gorjeta(valor_conta, porcentagem):\n",
        "  float(valor_conta)\n",
        "  float(porcentagem)\n",
        "  gorjeta = valor_conta * porcentagem\n",
        "  return gorjeta\n",
        "\n",
        "valor = float(input(\"Qual foi o valor da conta? \\n\"))\n",
        "gorjeta_calculada = calcula_gorjeta(valor, 0.1)\n",
        "print(f\"O valor da gorjeta é de R$ {gorjeta_calculada:.2f}\")"
      ],
      "execution_count": 144,
      "outputs": [
        {
          "output_type": "stream",
          "text": [
            "Qual foi o valor da conta? \n",
            "123.45\n",
            "O valor da gorjeta é de R$ 12.35\n"
          ],
          "name": "stdout"
        }
      ]
    },
    {
      "cell_type": "markdown",
      "metadata": {
        "id": "_DStDrn2OpuS"
      },
      "source": [
        "# Meus exercícios"
      ]
    },
    {
      "cell_type": "markdown",
      "metadata": {
        "id": "gcvra39ZT6gt"
      },
      "source": [
        "## Bhaskara\n",
        "Fiz para treinar.\n",
        "Precisa aperfeiçoar com IFs"
      ]
    },
    {
      "cell_type": "code",
      "metadata": {
        "colab": {
          "base_uri": "https://localhost:8080/"
        },
        "id": "icliQtMjRYKu",
        "outputId": "ddc04698-3a48-4f85-9e19-2fa16f7e508d"
      },
      "source": [
        "# Resolução de equações de 2º grau com Bhaskara\n",
        "print(\"Insira uma equação de 2º grau no formato: f(x) = ax² + bx + c\")\n",
        "a = int(input(\"a = \"))\n",
        "b = int(input(\"b = \"))\n",
        "c = int(input(\"c = \"))\n",
        "delta = float(((b * b) - (4 * a * c)))\n",
        "print(f\"\\nDada a expressão {a}x² + {b}x + {c}.\\n\")\n",
        "\n",
        "# Checagem do Delta\n",
        "if delta > 0:\n",
        "  print(f\"Delta = {delta:.2f} > 0. Portanto há 2 raízes reais.\")\n",
        "elif delta == 0:\n",
        "  print(\"Delta = 0. Portanto há apenas uma raiz real.\")\n",
        "else:\n",
        "  print(f\"Delta = {delta} < 0. Portanto as raízes são imaginárias. Não há solução real.\")\n",
        "\n",
        "x1 = ((-1 * b) + (delta ** (1/2))) / (2 * a)\n",
        "x2 = ((-1 * b) - (delta ** (1/2))) / (2 * a)\n",
        "vertice_y = (-1 * delta) / (4 * a)\n",
        "vertice_x = (-1 * b) / (2 * a)\n",
        "\n",
        "print(f\"\\nAs raízes são: {x1:.2f} e {x2:.2f}.\")\n",
        "# print(\"\\nAs raízes são:\", x1, \"e\", x2, \", enquanto para x = 0, y =\", yx0, \".\") # assim também funcionaria\n",
        "\n",
        "if a > 0:\n",
        "  print(f\"\\nO ponto de mínimo é {vertice_x:.2f},{vertice_y:.2f}.\")\n",
        "else:\n",
        "  print(f\"\\nO ponto de máximo é {vertice_x:.2f},{vertice_y:.2f}.\")\n",
        "\n"
      ],
      "execution_count": 157,
      "outputs": [
        {
          "output_type": "stream",
          "text": [
            "Insira uma equação de 2º grau no formato: f(x) = ax² + bx + c\n",
            "a = -1\n",
            "b = 2\n",
            "c = 3\n",
            "\n",
            "Dada a expressão -1x² + 2x + 3.\n",
            "\n",
            "Delta = 16.00 > 0. Portanto há 2 raízes reais.\n",
            "\n",
            "As raízes são: -1.00 e 3.00.\n",
            "\n",
            "O ponto de máximo é 1.00,4.00.\n"
          ],
          "name": "stdout"
        }
      ]
    },
    {
      "cell_type": "markdown",
      "metadata": {
        "id": "27N-mJeROeR3"
      },
      "source": [
        "## Fibonacci"
      ]
    },
    {
      "cell_type": "code",
      "metadata": {
        "colab": {
          "base_uri": "https://localhost:8080/"
        },
        "id": "LAela9W8MYkR",
        "outputId": "32e179e9-1a98-4101-9d01-4851e376b856"
      },
      "source": [
        "# Fibonacci\n",
        "i = 0\n",
        "j = 1\n",
        "x = 0\n",
        "print(i)\n",
        "print(j)\n",
        "while x < 1000:\n",
        "  x = i + j\n",
        "  i = j\n",
        "  j = x\n",
        "  print(x)\n",
        "\n",
        "\n"
      ],
      "execution_count": 1,
      "outputs": [
        {
          "output_type": "stream",
          "text": [
            "0\n",
            "1\n",
            "1\n",
            "2\n",
            "3\n",
            "5\n",
            "8\n",
            "13\n",
            "21\n",
            "34\n",
            "55\n",
            "89\n",
            "144\n",
            "233\n",
            "377\n",
            "610\n",
            "987\n",
            "1597\n"
          ],
          "name": "stdout"
        }
      ]
    }
  ]
}